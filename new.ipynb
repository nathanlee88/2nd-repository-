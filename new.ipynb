{
 "cells": [],
 "metadata": {},
 "nbformat": 4,
 "nbformat_minor": 4
}


library(tidyverse)
library(repr)
library(tidymodels)
library(readxl)
library(digest)
library(kknn)

url <- ("https://github.com/nathanlee88/2nd-repository-/blob/main/data/uk_data.xls")
download.file(url, destfile = "uk_data.xls") 
uk_train <- read_excel(path = "uk_data.xls", sheet = 2)
head(uk_train)
