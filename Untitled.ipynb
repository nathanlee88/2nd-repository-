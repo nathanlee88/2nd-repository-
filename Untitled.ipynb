{
 "cells": [
  {
   "cell_type": "code",
   "execution_count": 1,
   "metadata": {},
   "outputs": [],
   "source": [
    "#installing packages\n",
    "# install.packages(\"tidymodels\")\n",
    "# install.packages(\"readxl\")\n",
    "# install.packages(\"repr\")\n",
    "# install.packages(\"tidyverse\")\n",
    "# install.packages(\"psych\")\n",
    "# install.packages(\"digest\")\n",
    "# install.packages(\"kknn\")"
   ]
  },
  {
   "cell_type": "code",
   "execution_count": 35,
   "metadata": {},
   "outputs": [],
   "source": [
    "\n",
    "library(tidyverse)\n",
    "library(repr)\n",
    "library(tidymodels)\n",
    "library(readxl)\n",
    "library(digest)\n",
    "library(kknn)\n"
   ]
  },
  {
   "cell_type": "code",
   "execution_count": 38,
   "metadata": {},
   "outputs": [
    {
     "ename": "ERROR",
     "evalue": "Error: \n  filepath: /home/jupyter/uk_data.xls\n  libxls error: Unable to open file\n",
     "output_type": "error",
     "traceback": [
      "Error: \n  filepath: /home/jupyter/uk_data.xls\n  libxls error: Unable to open file\nTraceback:\n",
      "1. read_excel(path = \"uk_data.xls\", sheet = 2)",
      "2. read_excel_(path = path, sheet = sheet, range = range, col_names = col_names, \n .     col_types = col_types, na = na, trim_ws = trim_ws, skip = skip, \n .     n_max = n_max, guess_max = guess_max, progress = progress, \n .     .name_repair = .name_repair, format = format)",
      "3. set_readxl_names(read_fun(path = enc2native(normalizePath(path)), \n .     sheet_i = sheet, limits = limits, shim = shim, col_names = col_names, \n .     col_types = col_types, na = na, trim_ws = trim_ws, guess_max = guess_max, \n .     progress = progress), .name_repair = .name_repair)",
      "4. tibble::as_tibble(l, .name_repair = .name_repair)",
      "5. read_fun(path = enc2native(normalizePath(path)), sheet_i = sheet, \n .     limits = limits, shim = shim, col_names = col_names, col_types = col_types, \n .     na = na, trim_ws = trim_ws, guess_max = guess_max, progress = progress)"
     ]
    }
   ],
   "source": [
    "url <- (\"https://github.com/nathanlee88/2nd-repository-/blob/main/data/uk_data.xls\")\n",
    "download.file(url, destfile = \"uk_data.xls\") \n",
    "uk_train <- read_excel(path = \"uk_data.xls\", sheet = 2)\n",
    "head(uk_train)"
   ]
  },
  {
   "cell_type": "code",
   "execution_count": null,
   "metadata": {},
   "outputs": [],
   "source": []
  }
 ],
 "metadata": {
  "kernelspec": {
   "display_name": "R",
   "language": "R",
   "name": "ir"
  },
  "language_info": {
   "codemirror_mode": "r",
   "file_extension": ".r",
   "mimetype": "text/x-r-source",
   "name": "R",
   "pygments_lexer": "r",
   "version": "4.0.0"
  }
 },
 "nbformat": 4,
 "nbformat_minor": 4
}

