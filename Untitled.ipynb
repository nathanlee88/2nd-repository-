{
 "cells": [],
 "metadata": {},
 "nbformat": 4,
 "nbformat_minor": 4
}


url <- ("https://github.com/nathanlee88/2nd-repository-/blob/main/data/uk_data.xls")
download.file(url, destfile = "uk_data.xls) 
uk_train <- read_excel(path = "uk_data.xls", sheet = 2)
head(uk_train)
